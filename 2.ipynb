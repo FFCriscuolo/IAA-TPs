{
 "cells": [
  {
   "cell_type": "markdown",
   "id": "7bd91639",
   "metadata": {},
   "source": [
    "En data.py se cargan los datos y se dividen en _train_ y _test_ aleatoriamente (fijando una semilla)."
   ]
  },
  {
   "cell_type": "code",
   "execution_count": 3,
   "id": "eadb323e",
   "metadata": {},
   "outputs": [
    {
     "name": "stdout",
     "output_type": "stream",
     "text": [
      "Proporción datos train:  0.8\n",
      "Proporción datos test:  0.2\n"
     ]
    }
   ],
   "source": [
    "from data import X_train, X_test, y_train, y_test\n",
    "import numpy as np\n",
    "\n",
    "print(\"Proporción datos train: \", np.round(np.size(y_train)/(np.size(y_train)+np.size(y_test)), 2))\n",
    "print(\"Proporción datos test: \", np.round(np.size(y_test)/(np.size(y_train)+np.size(y_test)), 2))"
   ]
  },
  {
   "cell_type": "markdown",
   "id": "82097d90",
   "metadata": {},
   "source": [
    "En tree.py se implementa el árbol de decisión bajo la clase _CART_, la cual toma como parámetros:\n",
    "* _max_depth_, profunidad máxima del árbol;\n",
    "* _min_samples_split_, cantidad mínima de muestras que tienen que haber para hacer un split; y\n",
    "* _min_samples_leaf_, cantidad mínima de muestras que pueden quedar en una hoja después de un split."
   ]
  },
  {
   "cell_type": "code",
   "execution_count": 4,
   "id": "1e6bdd31",
   "metadata": {},
   "outputs": [
    {
     "name": "stdout",
     "output_type": "stream",
     "text": [
      "Accuracy (en train): 0.978021978021978\n",
      "Node d=0 samples=455 gini=0.4635 pred=0 feat=27 thr=0.14235\n",
      "  Node d=1 samples=305 gini=0.1505 pred=0 feat=20 thr=16.805\n",
      "    Node d=2 samples=278 gini=0.0491 pred=0 feat=None thr=None\n",
      "    Node d=2 samples=27 gini=0.4444 pred=1 feat=1 thr=16.375\n",
      "      Node d=3 samples=7 gini=0.0000 pred=0 feat=None thr=None\n",
      "      Node d=3 samples=20 gini=0.1800 pred=1 feat=None thr=None\n",
      "  Node d=1 samples=150 gini=0.1128 pred=1 feat=13 thr=13.93\n",
      "    Node d=2 samples=3 gini=0.0000 pred=0 feat=None thr=None\n",
      "    Node d=2 samples=147 gini=0.0783 pred=1 feat=16 thr=0.13565\n",
      "      Node d=3 samples=145 gini=0.0537 pred=1 feat=6 thr=0.08635000000000001\n",
      "        Node d=4 samples=10 gini=0.4800 pred=1 feat=5 thr=0.095025\n",
      "          Node d=5 samples=5 gini=0.0000 pred=1 feat=None thr=None\n",
      "          Node d=5 samples=5 gini=0.3200 pred=0 feat=None thr=None\n",
      "        Node d=4 samples=135 gini=0.0000 pred=1 feat=None thr=None\n",
      "      Node d=3 samples=2 gini=0.0000 pred=0 feat=None thr=None\n"
     ]
    }
   ],
   "source": [
    "from tree import CART, print_tree\n",
    "\n",
    "tree = CART(max_depth=5, min_samples_split=5, min_samples_leaf=2)\n",
    "tree.fit(X_train, y_train)\n",
    "\n",
    "y_pred = tree.predict(X_train)\n",
    "accuracy = np.mean(y_pred == y_train)\n",
    "\n",
    "print(\"Accuracy (en train):\", accuracy)\n",
    "print_tree(tree.tree) # Función para imprimir el árbol"
   ]
  },
  {
   "cell_type": "markdown",
   "id": "7caa8064",
   "metadata": {},
   "source": [
    "Para hacer la validación cruzada se define una función _k-fold_ que particione el conjunto de entrenamiento en _k_ partes de composición aleatoria, destinándose una de ellas a la validación y las _k-1_ restantes al entrenamiento."
   ]
  },
  {
   "cell_type": "code",
   "execution_count": 3,
   "id": "1673b9f7",
   "metadata": {},
   "outputs": [],
   "source": [
    "def k_fold_cross_validation(X, y, k=5, max_depth=None, min_samples_split=2, min_samples_leaf=1, seed=40):\n",
    "    n_samples = len(y)\n",
    "    indices = np.arange(n_samples)\n",
    "    np.random.seed(seed)\n",
    "    np.random.shuffle(indices)  # Mezclar datos\n",
    "\n",
    "    fold_sizes = np.full(k, n_samples // k, dtype=int)\n",
    "    fold_sizes[: n_samples % k] += 1  # Repartir sobrantes\n",
    "    current = 0\n",
    "\n",
    "    scores_val = []\n",
    "    scores_train = []\n",
    "\n",
    "    for fold_size in fold_sizes:\n",
    "        start, stop = current, current + fold_size\n",
    "        val_idx = indices[start:stop]\n",
    "        train_idx = np.concatenate((indices[:start], indices[stop:]))\n",
    "\n",
    "        X_train_fold, y_train_fold = X[train_idx], y[train_idx]\n",
    "        X_val_fold, y_val_fold = X[val_idx], y[val_idx]\n",
    "\n",
    "        # Entrenar árbol\n",
    "        tree = CART(max_depth=max_depth, min_samples_leaf=min_samples_leaf, min_samples_split=min_samples_split)\n",
    "        tree.fit(X_train_fold, y_train_fold)\n",
    "\n",
    "        # Predecir en entrenamiento y validación\n",
    "        y_pred_val = tree.predict(X_val_fold)\n",
    "        y_pred_train = tree.predict(X_train_fold)\n",
    "        acc_val = np.mean(y_pred_val == y_val_fold)\n",
    "        acc_train = np.mean(y_pred_train == y_train_fold)\n",
    "        scores_val.append(acc_val)\n",
    "        scores_train.append(acc_train)\n",
    "\n",
    "        current = stop\n",
    "\n",
    "    return scores_train, scores_val"
   ]
  },
  {
   "cell_type": "code",
   "execution_count": 4,
   "id": "071113f0",
   "metadata": {},
   "outputs": [
    {
     "name": "stdout",
     "output_type": "stream",
     "text": [
      "Accuracies entrenamiento: [0.981 0.984 0.989 0.97  0.989]\n",
      "Accuracies validación: [0.967 0.923 0.923 0.956 0.923]\n",
      "Accuracy entrenamiento =  0.982 ± 0.007\n",
      "Accuracy validación =  0.938 ± 0.019\n"
     ]
    }
   ],
   "source": [
    "scores_train, scores_val = k_fold_cross_validation(X_train, y_train, k=5, max_depth=10, min_samples_split=5, min_samples_leaf=2)\n",
    "\n",
    "print(\"Accuracies entrenamiento:\", np.round(scores_train, 3))\n",
    "print(\"Accuracies validación:\", np.round(scores_val,3))\n",
    "print(\"Accuracy entrenamiento = \", np.round(np.mean(scores_train),3), \"±\", np.round(np.std(scores_train),3))\n",
    "print(\"Accuracy validación = \", np.round(np.mean(scores_val),3), \"±\", np.round(np.std(scores_val),3))"
   ]
  },
  {
   "cell_type": "markdown",
   "id": "207dad28",
   "metadata": {},
   "source": [
    "Se observa que para las 5 particiones las accuracies de la validación son menores a las del entrenamiento, como es de esperar. Sin embargo no parece haber un gap demasiado grande entre ambas accuracies, incluso las accuracies del entrenamiento tampoco son exactamente 1, con lo cual pareciera que el árbol no está \"memorizando\" los datos de entrenamiento y está teniendo una buena capacidad de generalización.\n",
    "\n",
    "Se puede estudiar este compromiso entre memorización y generalización entrenando al árbol con distintos tamaños del dataset de entrenamiento y viendo cómo evolucionan las accuracies del entrenamiento y de la validación:"
   ]
  },
  {
   "cell_type": "code",
   "execution_count": 6,
   "id": "41434710",
   "metadata": {},
   "outputs": [
    {
     "data": {
      "image/png": "[encoded data removed]",
      "text/plain": [
       "<Figure size 640x480 with 1 Axes>"
      ]
     },
     "metadata": {},
     "output_type": "display_data"
    }
   ],
   "source": [
    "import matplotlib.pyplot as plt\n",
    "\n",
    "train = []\n",
    "val = []\n",
    "desvtrain = []\n",
    "desvval = []\n",
    "\n",
    "k_values = list(range(2,11))\n",
    "\n",
    "for i in k_values:\n",
    "    scores_train, scores_val = k_fold_cross_validation(X_train, y_train, k=i, max_depth=10, min_samples_split=5, min_samples_leaf=2)\n",
    "    train.append(np.round(np.mean(scores_train),3))\n",
    "    val.append(np.round(np.mean(scores_val),3))\n",
    "    desvtrain.append(np.round(np.std(scores_train),3))\n",
    "    desvval.append(np.round(np.std(scores_val),3))\n",
    "\n",
    "plt.errorbar(k_values, train, yerr=desvtrain, fmt=\"o\", capsize=5, label=\"Train\")\n",
    "plt.errorbar(k_values, val, yerr=desvval, fmt=\"o\", capsize=5, label=\"Validation\")\n",
    "plt.xlabel(\"Número de folds (k)\")\n",
    "plt.ylabel(\"Accuracy\")\n",
    "plt.legend()\n",
    "plt.grid(True)\n",
    "plt.show()"
   ]
  },
  {
   "cell_type": "markdown",
   "id": "8997c51f",
   "metadata": {},
   "source": [
    "Se observa cómo un 5-fold es una buena elección para maximizar las accuracies de ambos conjuntos sin que el desvío estándar sea demasiado alto (como ocurre para los 7,8 y 9-folds)."
   ]
  }
 ],
 "metadata": {
  "kernelspec": {
   "display_name": "enttorno0",
   "language": "python",
   "name": "python3"
  },
  "language_info": {
   "codemirror_mode": {
    "name": "ipython",
    "version": 3
   },
   "file_extension": ".py",
   "mimetype": "text/x-python",
   "name": "python",
   "nbconvert_exporter": "python",
   "pygments_lexer": "ipython3",
   "version": "3.12.11"
  }
 },
 "nbformat": 4,
 "nbformat_minor": 5
}
