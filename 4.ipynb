{
 "cells": [
  {
   "cell_type": "code",
   "execution_count": 221,
   "id": "cd81c4e8",
   "metadata": {},
   "outputs": [],
   "source": [
    "import numpy as np\n",
    "from data import X_train, X_test, y_train, y_test\n",
    "from random_forest import RandomForestList,PredictRandomForest\n",
    "from tree import print_tree\n"
   ]
  },
  {
   "cell_type": "code",
   "execution_count": null,
   "id": "bf1fd7ce",
   "metadata": {},
   "outputs": [],
   "source": [
    "random_forest_list = RandomForestList(X_train, y_train, n_trees=1, max_depth=10, min_samples_split=5, min_samples_leaf=0, max_features=30)"
   ]
  },
  {
   "cell_type": "code",
   "execution_count": 223,
   "id": "d57e69d1",
   "metadata": {},
   "outputs": [
    {
     "name": "stdout",
     "output_type": "stream",
     "text": [
      "1\n"
     ]
    }
   ],
   "source": [
    "print(random_forest_list.__len__())"
   ]
  },
  {
   "cell_type": "code",
   "execution_count": 224,
   "id": "2fedc1a7",
   "metadata": {},
   "outputs": [
    {
     "name": "stdout",
     "output_type": "stream",
     "text": [
      "Node d=0 samples=455 gini=0.4573 pred=0 feat=20 thr=16.83\n",
      "  Node d=1 samples=306 gini=0.1107 pred=0 feat=27 thr=0.16699999999999998\n",
      "    Node d=2 samples=297 gini=0.0588 pred=0 feat=10 thr=1.04755\n",
      "      Node d=3 samples=294 gini=0.0400 pred=0 feat=24 thr=0.19055\n",
      "        Node d=4 samples=292 gini=0.0270 pred=0 feat=25 thr=0.4508\n",
      "          Node d=5 samples=290 gini=0.0205 pred=0 feat=27 thr=0.11099999999999999\n",
      "            Node d=6 samples=257 gini=0.0000 pred=0 feat=None thr=None\n",
      "            Node d=6 samples=33 gini=0.1653 pred=0 feat=5 thr=0.070825\n",
      "              Node d=7 samples=2 gini=0.0000 pred=1 feat=None thr=None\n",
      "              Node d=7 samples=31 gini=0.0624 pred=0 feat=23 thr=817.9\n",
      "                Node d=8 samples=29 gini=0.0000 pred=0 feat=None thr=None\n",
      "                Node d=8 samples=2 gini=0.5000 pred=0 feat=None thr=None\n",
      "          Node d=5 samples=2 gini=0.5000 pred=0 feat=None thr=None\n",
      "        Node d=4 samples=2 gini=0.0000 pred=1 feat=None thr=None\n",
      "      Node d=3 samples=3 gini=0.0000 pred=1 feat=None thr=None\n",
      "    Node d=2 samples=9 gini=0.0000 pred=1 feat=None thr=None\n",
      "  Node d=1 samples=149 gini=0.0773 pred=1 feat=26 thr=0.2314\n",
      "    Node d=2 samples=17 gini=0.4567 pred=1 feat=4 thr=0.09247\n",
      "      Node d=3 samples=11 gini=0.0000 pred=1 feat=None thr=None\n",
      "      Node d=3 samples=6 gini=0.0000 pred=0 feat=None thr=None\n",
      "    Node d=2 samples=132 gini=0.0000 pred=1 feat=None thr=None\n"
     ]
    }
   ],
   "source": [
    "for i in random_forest_list:\n",
    "    print_tree(i.tree)"
   ]
  },
  {
   "cell_type": "code",
   "execution_count": 225,
   "id": "b79d2781",
   "metadata": {},
   "outputs": [
    {
     "name": "stdout",
     "output_type": "stream",
     "text": [
      "Accuracy (en train): 0.9692307692307692\n"
     ]
    }
   ],
   "source": [
    "y_pred = PredictRandomForest(random_forest_list, X_train)\n",
    "accuracy = np.mean(y_pred == y_train) \n",
    "print(\"Accuracy (en train):\", accuracy)"
   ]
  }
 ],
 "metadata": {
  "kernelspec": {
   "display_name": "iaa.venv (3.13.5)",
   "language": "python",
   "name": "python3"
  },
  "language_info": {
   "codemirror_mode": {
    "name": "ipython",
    "version": 3
   },
   "file_extension": ".py",
   "mimetype": "text/x-python",
   "name": "python",
   "nbconvert_exporter": "python",
   "pygments_lexer": "ipython3",
   "version": "3.13.5"
  }
 },
 "nbformat": 4,
 "nbformat_minor": 5
}
