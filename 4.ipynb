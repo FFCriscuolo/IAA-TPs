{
 "cells": [
  {
   "cell_type": "code",
   "execution_count": 1,
   "id": "cd81c4e8",
   "metadata": {},
   "outputs": [],
   "source": [
    "import numpy as np\n",
    "from data import X_train, X_test, y_train, y_test\n",
    "from random_forest import RandomForestList,PredictRandomForest\n",
    "from tree import print_tree\n"
   ]
  },
  {
   "cell_type": "code",
   "execution_count": 2,
   "id": "bf1fd7ce",
   "metadata": {},
   "outputs": [],
   "source": [
    "random_forest_list, X_sample_list = RandomForestList(X_train, y_train, n_trees=1, max_depth=5, min_samples_split=5, min_samples_leaf=2, max_features=30, bootsrap=False)"
   ]
  },
  {
   "cell_type": "code",
   "execution_count": 3,
   "id": "d57e69d1",
   "metadata": {},
   "outputs": [
    {
     "name": "stdout",
     "output_type": "stream",
     "text": [
      "1\n",
      "1\n"
     ]
    }
   ],
   "source": [
    "print(random_forest_list.__len__())\n",
    "print(len(X_sample_list))"
   ]
  },
  {
   "cell_type": "code",
   "execution_count": 4,
   "id": "2fedc1a7",
   "metadata": {},
   "outputs": [
    {
     "name": "stdout",
     "output_type": "stream",
     "text": [
      "Node d=0 samples=455 gini=0.4635 pred=0 feat=28 thr=0.14235\n",
      "  Node d=1 samples=305 gini=0.1505 pred=0 feat=12 thr=16.805\n",
      "    Node d=2 samples=278 gini=0.0491 pred=0 feat=None thr=None\n",
      "    Node d=2 samples=27 gini=0.4444 pred=1 feat=4 thr=16.375\n",
      "      Node d=3 samples=7 gini=0.0000 pred=0 feat=None thr=None\n",
      "      Node d=3 samples=20 gini=0.1800 pred=1 feat=None thr=None\n",
      "  Node d=1 samples=150 gini=0.1128 pred=1 feat=13 thr=13.93\n",
      "    Node d=2 samples=3 gini=0.0000 pred=0 feat=None thr=None\n",
      "    Node d=2 samples=147 gini=0.0783 pred=1 feat=1 thr=0.012910000000000001\n",
      "      Node d=3 samples=145 gini=0.0537 pred=1 feat=2 thr=0.055650000000000005\n",
      "        Node d=4 samples=10 gini=0.4800 pred=1 feat=25 thr=19.615000000000002\n",
      "          Node d=5 samples=4 gini=0.0000 pred=0 feat=None thr=None\n",
      "          Node d=5 samples=6 gini=0.0000 pred=1 feat=None thr=None\n",
      "        Node d=4 samples=135 gini=0.0000 pred=1 feat=None thr=None\n",
      "      Node d=3 samples=2 gini=0.0000 pred=0 feat=None thr=None\n"
     ]
    }
   ],
   "source": [
    "for i in random_forest_list:\n",
    "    print_tree(i.tree)"
   ]
  },
  {
   "cell_type": "code",
   "execution_count": 5,
   "id": "b79d2781",
   "metadata": {},
   "outputs": [
    {
     "name": "stdout",
     "output_type": "stream",
     "text": [
      "Accuracy (en train): 0.6351648351648351\n"
     ]
    }
   ],
   "source": [
    "y_pred = PredictRandomForest(random_forest_list, X_sample_list)\n",
    "accuracy = np.mean(y_pred == y_train) \n",
    "print(\"Accuracy (en train):\", accuracy)"
   ]
  }
 ],
 "metadata": {
  "kernelspec": {
   "display_name": "iaa.venv (3.13.5)",
   "language": "python",
   "name": "python3"
  },
  "language_info": {
   "codemirror_mode": {
    "name": "ipython",
    "version": 3
   },
   "file_extension": ".py",
   "mimetype": "text/x-python",
   "name": "python",
   "nbconvert_exporter": "python",
   "pygments_lexer": "ipython3",
   "version": "3.13.5"
  }
 },
 "nbformat": 4,
 "nbformat_minor": 5
}
