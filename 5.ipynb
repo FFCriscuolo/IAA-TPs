{
 "cells": [
  {
   "cell_type": "code",
   "execution_count": 3,
   "id": "524519c3",
   "metadata": {},
   "outputs": [],
   "source": [
    "import pandas as pd\n",
    "import numpy as np\n",
    "import matplotlib.pyplot as plt\n",
    "from data import X_train, y_train\n",
    "from knn import KnnClassif"
   ]
  },
  {
   "cell_type": "code",
   "execution_count": 4,
   "id": "721dc699",
   "metadata": {},
   "outputs": [
    {
     "name": "stdout",
     "output_type": "stream",
     "text": [
      "[TRAIN] Accuracy para k = 3: 0.9516\n",
      "[TRAIN] Accuracy para k = 5: 0.9385\n",
      "[TRAIN] Accuracy para k = 11: 0.9407\n",
      "[TRAIN] Accuracy para k = 20: 0.9319\n",
      "[TRAIN] Accuracy para k = 25: 0.9253\n",
      "[TRAIN] Accuracy para k = 81: 0.9077\n"
     ]
    }
   ],
   "source": [
    "for k in [3, 5, 11, 20, 25, 81]: #uso k impares porque es mejor y uso uno par para ver dif\n",
    "    knn = KnnClassif(k=k)\n",
    "    knn.fit(X_train, y_train)\n",
    "    pred_train = knn.predict(X_train)\n",
    "    acc_train = np.mean(pred_train == y_train)\n",
    "    print(f\"[TRAIN] Accuracy para k = {k}: {acc_train:.4f}\")"
   ]
  },
  {
   "cell_type": "markdown",
   "id": "a2e3f0d6",
   "metadata": {},
   "source": [
    "Ahora pondero los vecinos mas cercanos, *weighted Knn*, pero lo aplico con un hiperparametro k moderado. Así tengo un sistema mas estable y robusto con un k moderado+ponderación. Dado a que la accuracy sigue siendo alta para k=11 y k=25 sin ponderación y por ende las clases son separables. Hago la ponderacion para k=11 y k=25.\n",
    "\n",
    "Hago la ponderacion de la distancia pero antes transformo mis variables para que la distancia euclídea funcione, segun técnicas vistas en clase: normalización o estandarización. Hago estandarización de los datos x_train porque son 10 datos de distinta escala, para poder compararlo mejor a los binarios de y_train."
   ]
  },
  {
   "cell_type": "code",
   "execution_count": 5,
   "id": "aaafe156",
   "metadata": {},
   "outputs": [],
   "source": [
    "class StandardScaler:\n",
    "    def fit(self, X):\n",
    "        # Calculo media y desvío por columna\n",
    "        self.mean_ = np.mean(X, axis=0)\n",
    "        self.std_ = np.std(X, axis=0, ddof=0)\n",
    "        return self\n",
    "\n",
    "    def transform(self, X):\n",
    "        # Aplico la transformación\n",
    "        return (X - self.mean_) / self.std_\n",
    "\n",
    "    def fit_transform(self, X):\n",
    "        return self.fit(X).transform(X)"
   ]
  },
  {
   "cell_type": "code",
   "execution_count": 6,
   "id": "1e375d24",
   "metadata": {},
   "outputs": [
    {
     "name": "stdout",
     "output_type": "stream",
     "text": [
      "[Weighted Knn] Accuracy en TRAIN (k=11): 1.0000\n",
      "[Weighted Knn] Accuracy en TRAIN (k=25): 1.0000\n"
     ]
    }
   ],
   "source": [
    "from knn import WeightedKnnClassif\n",
    "\n",
    "# Estandarización de X_train\n",
    "scaler = StandardScaler()\n",
    "X_train_scaled = scaler.fit_transform(X_train)\n",
    "\n",
    "# Evaluar para k=11 y k=25\n",
    "for k in [11, 25]:\n",
    "    wknn = WeightedKnnClassif(k=k)\n",
    "    wknn.fit(X_train_scaled, y_train)\n",
    "    y_pred_train = wknn.predict(X_train_scaled)\n",
    "    accuracy = np.mean(y_pred_train == y_train)\n",
    "    print(f\"[Weighted Knn] Accuracy en TRAIN (k={k}): {accuracy:.4f}\")"
   ]
  },
  {
   "cell_type": "markdown",
   "id": "2b62cdb3",
   "metadata": {},
   "source": [
    "Se verifica que la accuracy con ponderación es mayor que sin y para ambos es 100%. Se clasifican correctamente pero porque las clases son separables y además no implica que el modelo está generalizando bien porque solo evaluamos en datos de train y no con datos nuevos."
   ]
  },
  {
   "cell_type": "markdown",
   "id": "5a2b000e",
   "metadata": {},
   "source": [
    "Evaluamos con distintos hiperparametros k (de 1-30 según recomendación) usando validacion cruzada (estratificada, para mantener las proporciones de clases en cada fold)."
   ]
  },
  {
   "cell_type": "code",
   "execution_count": 13,
   "id": "7846443b",
   "metadata": {},
   "outputs": [
    {
     "data": {
      "text/plain": [
       "'\\n\\nscaler = StandardScaler()\\nX_train_scaled = scaler.fit_transform(X_train)\\ndef evaluar_weighted_knn_cv(X, y, valores_k, folds=5):\\n    resultados = {}\\n\\n    skf = StratifiedKFold(n_splits=folds, shuffle=True, random_state=42)\\n\\n    for k in valores_k:\\n        accuracies = []\\n        for train_index, val_index in skf.split(X, y):\\n            X_fold_train, X_fold_val = X[train_index], X[val_index]\\n            y_fold_train, y_fold_val = y[train_index], y[val_index]\\n\\n            knn = WeightedKnnClassif(k=k)\\n            knn.fit(X_fold_train, y_fold_train)\\n            y_pred = knn.predict(X_fold_val)\\n            acc = np.mean(y_pred == y_fold_val)\\n            accuracies.append(acc)\\n\\n        promedio = np.mean(accuracies)\\n        resultados[k] = promedio\\n    return resultados\\n\\n#grafico curva de validacion\\nresultados_grafico = evaluar_weighted_knn_cv(X_train_scaled, y_train.values,list(range(1,31)))\\n\\nks = sorted(resultados_grafico.keys())\\naccuracies = [resultados_grafico[k] for k in ks]\\n\\nplt.figure(figsize=(10, 6))\\nplt.plot(ks, accuracies, marker=\\'o\\', linestyle=\\'-\\', color=\\'royalblue\\')\\nplt.title(\"Curva de Validación - Weighted k-NN (k = 1 a 30)\")\\nplt.xlabel(\"Valor de k\")\\nplt.ylabel(\"Accuracy promedio (validación cruzada)\")\\nplt.grid(True)\\nplt.xticks(ks)\\nplt.ylim(0.8, 1.05)\\nplt.show()\\n\\n'"
      ]
     },
     "execution_count": 13,
     "metadata": {},
     "output_type": "execute_result"
    }
   ],
   "source": [
    "# No se puede usar StratifiedkFold de sklearn, hay que implementarla a mano\n",
    "\n",
    "\"\"\"\n",
    "\n",
    "scaler = StandardScaler()\n",
    "X_train_scaled = scaler.fit_transform(X_train)\n",
    "def evaluar_weighted_knn_cv(X, y, valores_k, folds=5):\n",
    "    resultados = {}\n",
    "\n",
    "    skf = StratifiedKFold(n_splits=folds, shuffle=True, random_state=42)\n",
    "\n",
    "    for k in valores_k:\n",
    "        accuracies = []\n",
    "        for train_index, val_index in skf.split(X, y):\n",
    "            X_fold_train, X_fold_val = X[train_index], X[val_index]\n",
    "            y_fold_train, y_fold_val = y[train_index], y[val_index]\n",
    "\n",
    "            knn = WeightedKnnClassif(k=k)\n",
    "            knn.fit(X_fold_train, y_fold_train)\n",
    "            y_pred = knn.predict(X_fold_val)\n",
    "            acc = np.mean(y_pred == y_fold_val)\n",
    "            accuracies.append(acc)\n",
    "\n",
    "        promedio = np.mean(accuracies)\n",
    "        resultados[k] = promedio\n",
    "    return resultados\n",
    "\n",
    "#grafico curva de validacion\n",
    "resultados_grafico = evaluar_weighted_knn_cv(X_train_scaled, y_train.values,list(range(1,31)))\n",
    "\n",
    "ks = sorted(resultados_grafico.keys())\n",
    "accuracies = [resultados_grafico[k] for k in ks]\n",
    "\n",
    "plt.figure(figsize=(10, 6))\n",
    "plt.plot(ks, accuracies, marker='o', linestyle='-', color='royalblue')\n",
    "plt.title(\"Curva de Validación - Weighted k-NN (k = 1 a 30)\")\n",
    "plt.xlabel(\"Valor de k\")\n",
    "plt.ylabel(\"Accuracy promedio (validación cruzada)\")\n",
    "plt.grid(True)\n",
    "plt.xticks(ks)\n",
    "plt.ylim(0.8, 1.05)\n",
    "plt.show()\n",
    "\n",
    "\"\"\""
   ]
  },
  {
   "cell_type": "code",
   "execution_count": 17,
   "id": "52ea4657",
   "metadata": {},
   "outputs": [
    {
     "data": {
      "image/png": "[encoded data removed]",
      "text/plain": [
       "<Figure size 1200x600 with 1 Axes>"
      ]
     },
     "metadata": {},
     "output_type": "display_data"
    }
   ],
   "source": [
    "def stratified_k_fold(X, y, k=5, seed=40):\n",
    "    np.random.seed(seed)\n",
    "    y = np.array(y)\n",
    "    unique_classes, y_indices = np.unique(y, return_inverse=True)\n",
    "    \n",
    "    # Índices de cada clase\n",
    "    class_indices = [np.where(y_indices == i)[0] for i in range(len(unique_classes))]\n",
    "    for ci in class_indices:\n",
    "        np.random.shuffle(ci)\n",
    "\n",
    "    # Crear folds\n",
    "    folds = [[] for _ in range(k)]\n",
    "    for ci in class_indices:\n",
    "        fold_sizes = np.full(k, len(ci) // k, dtype=int)\n",
    "        fold_sizes[: len(ci) % k] += 1\n",
    "        current = 0\n",
    "        for i in range(k):\n",
    "            start, stop = current, current + fold_sizes[i]\n",
    "            folds[i].extend(ci[start:stop])\n",
    "            current = stop\n",
    "\n",
    "    folds = [np.array(fold) for fold in folds]\n",
    "\n",
    "    # Devuelve índices de train y val para cada fold\n",
    "    for i in range(k):\n",
    "        val_idx = folds[i]\n",
    "        train_idx = np.concatenate([folds[j] for j in range(k) if j != i])\n",
    "        yield train_idx, val_idx\n",
    "\n",
    "\n",
    "def evaluar_weighted_knn_cv(X, y, valores_k, folds=5, seed=42):\n",
    "    resultados_mean = {}\n",
    "    resultados_std = {}\n",
    "\n",
    "    for k in valores_k:\n",
    "        accuracies = []\n",
    "\n",
    "        for train_idx, val_idx in stratified_k_fold(X, y, k=folds, seed=seed):\n",
    "            X_train_fold, X_val_fold = X[train_idx], X[val_idx]\n",
    "            y_train_fold, y_val_fold = y[train_idx], y[val_idx]\n",
    "\n",
    "            # Entrena el modelo\n",
    "            knn = WeightedKnnClassif(k=k)\n",
    "            knn.fit(X_train_fold, y_train_fold)\n",
    "            y_pred = knn.predict(X_val_fold)\n",
    "\n",
    "            # Accuracy\n",
    "            acc = np.mean(y_pred == y_val_fold)\n",
    "            accuracies.append(acc)\n",
    "\n",
    "        resultados_mean[k] = np.mean(accuracies)\n",
    "        resultados_std[k] = np.std(accuracies, ddof=1)\n",
    "\n",
    "    return resultados_mean, resultados_std\n",
    "\n",
    "resultados_mean, resultados_std = evaluar_weighted_knn_cv(\n",
    "    X_train_scaled, y_train, list(range(1, 31))\n",
    ")\n",
    "\n",
    "ks = np.array(sorted(resultados_mean.keys()))\n",
    "accuracies_mean = np.array([resultados_mean[k] for k in ks])\n",
    "accuracies_std = np.array([resultados_std[k] for k in ks])\n",
    "\n",
    "plt.figure(figsize=(12, 6))\n",
    "plt.errorbar(\n",
    "    ks, accuracies_mean, yerr=accuracies_std,\n",
    "    fmt='o-', color='#003732', ecolor='#003732', capsize=4\n",
    ")\n",
    "#plt.title(\"Curva de Validación - Weighted k-NN (k = 1 a 30)\")\n",
    "plt.xlabel(\"Valor de k\")\n",
    "plt.ylabel(\"Accuracy promedio\")\n",
    "plt.grid(True)\n",
    "plt.xticks(ks)\n",
    "plt.ylim(0.9, 1.02)\n",
    "plt.show()\n"
   ]
  }
 ],
 "metadata": {
  "kernelspec": {
   "display_name": "iaa.venv (3.13.5)",
   "language": "python",
   "name": "python3"
  },
  "language_info": {
   "codemirror_mode": {
    "name": "ipython",
    "version": 3
   },
   "file_extension": ".py",
   "mimetype": "text/x-python",
   "name": "python",
   "nbconvert_exporter": "python",
   "pygments_lexer": "ipython3",
   "version": "3.13.5"
  }
 },
 "nbformat": 4,
 "nbformat_minor": 5
}
