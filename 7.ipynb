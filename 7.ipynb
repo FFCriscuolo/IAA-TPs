{
 "cells": [
  {
   "cell_type": "markdown",
   "id": "c992f768",
   "metadata": {},
   "source": [
    "El clasificador que elegiríamos para implementar en una aplicación real es el Random Forest. Este modelo presenta el mejor rendimiento tanto en validación como en test, alcanzando una precisión cercana al 98% y mostrando además una baja variabilidad, lo que indica una buena capacidad de generalización. En comparación, el Árbol de decisión individual logra también un desempeño alto, aunque con mayor dispersión en los resultados, lo que lo hace más sensible a variaciones en los datos. Los métodos k-NN y Weighted k-NN, en cambio, exhiben una precisión menor en test, en torno al 92%, lo que los vuelve menos confiables. Esperaríamos que el Random Forest mantenga un buen equilibrio entre robustez, interpretabilidad relativa y capacidad de manejar datos complejos sin sobreajustarse."
   ]
  }
 ],
 "metadata": {
  "language_info": {
   "name": "python"
  }
 },
 "nbformat": 4,
 "nbformat_minor": 5
}
